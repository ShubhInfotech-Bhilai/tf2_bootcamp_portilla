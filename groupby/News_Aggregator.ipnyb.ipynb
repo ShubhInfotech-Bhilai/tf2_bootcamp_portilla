{
 "cells": [
  {
   "cell_type": "markdown",
   "metadata": {},
   "source": [
    "Source: Example 3 https://realpython.com/pandas-groupby/\n",
    "\n",
    "Datasets holds metadata on several hundred thousand news articles and groups them into topic clusters:"
   ]
  },
  {
   "cell_type": "code",
   "execution_count": 2,
   "metadata": {},
   "outputs": [],
   "source": [
    "import datetime as dt\n",
    "import pandas as pd"
   ]
  },
  {
   "cell_type": "code",
   "execution_count": 3,
   "metadata": {},
   "outputs": [],
   "source": [
    "def parse_millisecond_timestamp(ts: int) -> dt.datetime:\n",
    "    \"\"\"Convert ms since Unix epoch to UTC datetime instance.\"\"\"\n",
    "    return dt.datetime.fromtimestamp(ts / 1000, tz=dt.timezone.utc)"
   ]
  },
  {
   "cell_type": "code",
   "execution_count": 7,
   "metadata": {},
   "outputs": [],
   "source": [
    "df = pd.read_csv(\n",
    "    \"news.csv\",\n",
    "    sep=\"\\t\",\n",
    "    header=None,\n",
    "    index_col=0,\n",
    "    names=[\"title\", \"url\", \"outlet\", \"category\", \"cluster\", \"host\", \"tstamp\"],\n",
    "    parse_dates=[\"tstamp\"],\n",
    "    date_parser=parse_millisecond_timestamp,\n",
    "    dtype={\n",
    "        \"outlet\": \"category\",\n",
    "        \"category\": \"category\",\n",
    "        \"cluster\": \"category\",\n",
    "        \"host\": \"category\",\n",
    "    },\n",
    ")"
   ]
  },
  {
   "cell_type": "code",
   "execution_count": 8,
   "metadata": {},
   "outputs": [
    {
     "data": {
      "text/html": [
       "<div>\n",
       "<style scoped>\n",
       "    .dataframe tbody tr th:only-of-type {\n",
       "        vertical-align: middle;\n",
       "    }\n",
       "\n",
       "    .dataframe tbody tr th {\n",
       "        vertical-align: top;\n",
       "    }\n",
       "\n",
       "    .dataframe thead th {\n",
       "        text-align: right;\n",
       "    }\n",
       "</style>\n",
       "<table border=\"1\" class=\"dataframe\">\n",
       "  <thead>\n",
       "    <tr style=\"text-align: right;\">\n",
       "      <th></th>\n",
       "      <th>title</th>\n",
       "      <th>url</th>\n",
       "      <th>outlet</th>\n",
       "      <th>category</th>\n",
       "      <th>cluster</th>\n",
       "      <th>host</th>\n",
       "      <th>tstamp</th>\n",
       "    </tr>\n",
       "  </thead>\n",
       "  <tbody>\n",
       "    <tr>\n",
       "      <th>1</th>\n",
       "      <td>Fed official says weak data caused by weather,...</td>\n",
       "      <td>http://www.latimes.com/business/money/la-fi-mo...</td>\n",
       "      <td>Los Angeles Times</td>\n",
       "      <td>b</td>\n",
       "      <td>ddUyU0VZz0BRneMioxUPQVP6sIxvM</td>\n",
       "      <td>www.latimes.com</td>\n",
       "      <td>2014-03-10 16:52:50.698000+00:00</td>\n",
       "    </tr>\n",
       "    <tr>\n",
       "      <th>2</th>\n",
       "      <td>Fed's Charles Plosser sees high bar for change...</td>\n",
       "      <td>http://www.livemint.com/Politics/H2EvwJSK2VE6O...</td>\n",
       "      <td>Livemint</td>\n",
       "      <td>b</td>\n",
       "      <td>ddUyU0VZz0BRneMioxUPQVP6sIxvM</td>\n",
       "      <td>www.livemint.com</td>\n",
       "      <td>2014-03-10 16:52:51.207000+00:00</td>\n",
       "    </tr>\n",
       "    <tr>\n",
       "      <th>3</th>\n",
       "      <td>US open: Stocks fall after Fed official hints ...</td>\n",
       "      <td>http://www.ifamagazine.com/news/us-open-stocks...</td>\n",
       "      <td>IFA Magazine</td>\n",
       "      <td>b</td>\n",
       "      <td>ddUyU0VZz0BRneMioxUPQVP6sIxvM</td>\n",
       "      <td>www.ifamagazine.com</td>\n",
       "      <td>2014-03-10 16:52:51.550000+00:00</td>\n",
       "    </tr>\n",
       "    <tr>\n",
       "      <th>4</th>\n",
       "      <td>Fed risks falling 'behind the curve', Charles ...</td>\n",
       "      <td>http://www.ifamagazine.com/news/fed-risks-fall...</td>\n",
       "      <td>IFA Magazine</td>\n",
       "      <td>b</td>\n",
       "      <td>ddUyU0VZz0BRneMioxUPQVP6sIxvM</td>\n",
       "      <td>www.ifamagazine.com</td>\n",
       "      <td>2014-03-10 16:52:51.793000+00:00</td>\n",
       "    </tr>\n",
       "    <tr>\n",
       "      <th>5</th>\n",
       "      <td>Fed's Plosser: Nasty Weather Has Curbed Job Gr...</td>\n",
       "      <td>http://www.moneynews.com/Economy/federal-reser...</td>\n",
       "      <td>Moneynews</td>\n",
       "      <td>b</td>\n",
       "      <td>ddUyU0VZz0BRneMioxUPQVP6sIxvM</td>\n",
       "      <td>www.moneynews.com</td>\n",
       "      <td>2014-03-10 16:52:52.027000+00:00</td>\n",
       "    </tr>\n",
       "  </tbody>\n",
       "</table>\n",
       "</div>"
      ],
      "text/plain": [
       "                                               title  \\\n",
       "1  Fed official says weak data caused by weather,...   \n",
       "2  Fed's Charles Plosser sees high bar for change...   \n",
       "3  US open: Stocks fall after Fed official hints ...   \n",
       "4  Fed risks falling 'behind the curve', Charles ...   \n",
       "5  Fed's Plosser: Nasty Weather Has Curbed Job Gr...   \n",
       "\n",
       "                                                 url             outlet  \\\n",
       "1  http://www.latimes.com/business/money/la-fi-mo...  Los Angeles Times   \n",
       "2  http://www.livemint.com/Politics/H2EvwJSK2VE6O...           Livemint   \n",
       "3  http://www.ifamagazine.com/news/us-open-stocks...       IFA Magazine   \n",
       "4  http://www.ifamagazine.com/news/fed-risks-fall...       IFA Magazine   \n",
       "5  http://www.moneynews.com/Economy/federal-reser...          Moneynews   \n",
       "\n",
       "  category                        cluster                 host  \\\n",
       "1        b  ddUyU0VZz0BRneMioxUPQVP6sIxvM      www.latimes.com   \n",
       "2        b  ddUyU0VZz0BRneMioxUPQVP6sIxvM     www.livemint.com   \n",
       "3        b  ddUyU0VZz0BRneMioxUPQVP6sIxvM  www.ifamagazine.com   \n",
       "4        b  ddUyU0VZz0BRneMioxUPQVP6sIxvM  www.ifamagazine.com   \n",
       "5        b  ddUyU0VZz0BRneMioxUPQVP6sIxvM    www.moneynews.com   \n",
       "\n",
       "                            tstamp  \n",
       "1 2014-03-10 16:52:50.698000+00:00  \n",
       "2 2014-03-10 16:52:51.207000+00:00  \n",
       "3 2014-03-10 16:52:51.550000+00:00  \n",
       "4 2014-03-10 16:52:51.793000+00:00  \n",
       "5 2014-03-10 16:52:52.027000+00:00  "
      ]
     },
     "execution_count": 8,
     "metadata": {},
     "output_type": "execute_result"
    }
   ],
   "source": [
    "df.head()"
   ]
  },
  {
   "cell_type": "markdown",
   "metadata": {},
   "source": [
    "To read it into memory with the proper dyptes, you need a helper function to parse the timestamp column. This is because it’s expressed as the number of milliseconds since the Unix epoch, rather than fractional seconds, which is the convention. Similar to what you did before, you can use the Categorical dtype to efficiently encode columns that have a relatively small number of unique values relative to the column length.\n",
    "\n",
    "Each row of the dataset contains the title, URL, publishing outlet’s name, and domain, as well as the publish timestamp. cluster is a random ID for the topic cluster to which an article belongs. category is the news category and contains the following options:\n",
    "\n",
    "    b for business\n",
    "    t for science and technology\n",
    "    e for entertainment\n",
    "    m for health\n",
    "\n",
    "Here’s the first row:"
   ]
  },
  {
   "cell_type": "code",
   "execution_count": 9,
   "metadata": {},
   "outputs": [
    {
     "data": {
      "text/plain": [
       "title       Fed official says weak data caused by weather,...\n",
       "url         http://www.latimes.com/business/money/la-fi-mo...\n",
       "outlet                                      Los Angeles Times\n",
       "category                                                    b\n",
       "cluster                         ddUyU0VZz0BRneMioxUPQVP6sIxvM\n",
       "host                                          www.latimes.com\n",
       "tstamp                       2014-03-10 16:52:50.698000+00:00\n",
       "Name: 1, dtype: object"
      ]
     },
     "execution_count": 9,
     "metadata": {},
     "output_type": "execute_result"
    }
   ],
   "source": [
    "df.iloc[0]"
   ]
  },
  {
   "cell_type": "markdown",
   "metadata": {},
   "source": [
    "Now that you’ve had a glimpse of the data, you can begin to ask more complex questions about it.\n",
    "\n",
    "**Using Lambda Functions in .groupby()**\n",
    "\n",
    "This dataset invites a lot more potentially involved questions. I’ll throw a random but meaningful one out there: which outlets talk most about the Federal Reserve? Let’s assume for simplicity that this entails searching for case-sensitive mentions of \"Fed\". Bear in mind that this may generate some false positives with terms like “Federal Government.”\n",
    "\n",
    "To count mentions by outlet, you can call **.groupby()** on the outlet, and then quite literally **.apply()** a function on each group:"
   ]
  },
  {
   "cell_type": "code",
   "execution_count": 15,
   "metadata": {},
   "outputs": [
    {
     "data": {
      "text/html": [
       "<div>\n",
       "<style scoped>\n",
       "    .dataframe tbody tr th:only-of-type {\n",
       "        vertical-align: middle;\n",
       "    }\n",
       "\n",
       "    .dataframe tbody tr th {\n",
       "        vertical-align: top;\n",
       "    }\n",
       "\n",
       "    .dataframe thead th {\n",
       "        text-align: right;\n",
       "    }\n",
       "</style>\n",
       "<table border=\"1\" class=\"dataframe\">\n",
       "  <thead>\n",
       "    <tr style=\"text-align: right;\">\n",
       "      <th></th>\n",
       "      <th>title</th>\n",
       "      <th>url</th>\n",
       "      <th>outlet</th>\n",
       "      <th>category</th>\n",
       "      <th>cluster</th>\n",
       "      <th>host</th>\n",
       "      <th>tstamp</th>\n",
       "    </tr>\n",
       "  </thead>\n",
       "  <tbody>\n",
       "    <tr>\n",
       "      <th>1</th>\n",
       "      <td>Fed official says weak data caused by weather,...</td>\n",
       "      <td>http://www.latimes.com/business/money/la-fi-mo...</td>\n",
       "      <td>Los Angeles Times</td>\n",
       "      <td>b</td>\n",
       "      <td>ddUyU0VZz0BRneMioxUPQVP6sIxvM</td>\n",
       "      <td>www.latimes.com</td>\n",
       "      <td>2014-03-10 16:52:50.698000+00:00</td>\n",
       "    </tr>\n",
       "    <tr>\n",
       "      <th>2</th>\n",
       "      <td>Fed's Charles Plosser sees high bar for change...</td>\n",
       "      <td>http://www.livemint.com/Politics/H2EvwJSK2VE6O...</td>\n",
       "      <td>Livemint</td>\n",
       "      <td>b</td>\n",
       "      <td>ddUyU0VZz0BRneMioxUPQVP6sIxvM</td>\n",
       "      <td>www.livemint.com</td>\n",
       "      <td>2014-03-10 16:52:51.207000+00:00</td>\n",
       "    </tr>\n",
       "    <tr>\n",
       "      <th>3</th>\n",
       "      <td>US open: Stocks fall after Fed official hints ...</td>\n",
       "      <td>http://www.ifamagazine.com/news/us-open-stocks...</td>\n",
       "      <td>IFA Magazine</td>\n",
       "      <td>b</td>\n",
       "      <td>ddUyU0VZz0BRneMioxUPQVP6sIxvM</td>\n",
       "      <td>www.ifamagazine.com</td>\n",
       "      <td>2014-03-10 16:52:51.550000+00:00</td>\n",
       "    </tr>\n",
       "    <tr>\n",
       "      <th>4</th>\n",
       "      <td>Fed risks falling 'behind the curve', Charles ...</td>\n",
       "      <td>http://www.ifamagazine.com/news/fed-risks-fall...</td>\n",
       "      <td>IFA Magazine</td>\n",
       "      <td>b</td>\n",
       "      <td>ddUyU0VZz0BRneMioxUPQVP6sIxvM</td>\n",
       "      <td>www.ifamagazine.com</td>\n",
       "      <td>2014-03-10 16:52:51.793000+00:00</td>\n",
       "    </tr>\n",
       "    <tr>\n",
       "      <th>5</th>\n",
       "      <td>Fed's Plosser: Nasty Weather Has Curbed Job Gr...</td>\n",
       "      <td>http://www.moneynews.com/Economy/federal-reser...</td>\n",
       "      <td>Moneynews</td>\n",
       "      <td>b</td>\n",
       "      <td>ddUyU0VZz0BRneMioxUPQVP6sIxvM</td>\n",
       "      <td>www.moneynews.com</td>\n",
       "      <td>2014-03-10 16:52:52.027000+00:00</td>\n",
       "    </tr>\n",
       "  </tbody>\n",
       "</table>\n",
       "</div>"
      ],
      "text/plain": [
       "                                               title  \\\n",
       "1  Fed official says weak data caused by weather,...   \n",
       "2  Fed's Charles Plosser sees high bar for change...   \n",
       "3  US open: Stocks fall after Fed official hints ...   \n",
       "4  Fed risks falling 'behind the curve', Charles ...   \n",
       "5  Fed's Plosser: Nasty Weather Has Curbed Job Gr...   \n",
       "\n",
       "                                                 url             outlet  \\\n",
       "1  http://www.latimes.com/business/money/la-fi-mo...  Los Angeles Times   \n",
       "2  http://www.livemint.com/Politics/H2EvwJSK2VE6O...           Livemint   \n",
       "3  http://www.ifamagazine.com/news/us-open-stocks...       IFA Magazine   \n",
       "4  http://www.ifamagazine.com/news/fed-risks-fall...       IFA Magazine   \n",
       "5  http://www.moneynews.com/Economy/federal-reser...          Moneynews   \n",
       "\n",
       "  category                        cluster                 host  \\\n",
       "1        b  ddUyU0VZz0BRneMioxUPQVP6sIxvM      www.latimes.com   \n",
       "2        b  ddUyU0VZz0BRneMioxUPQVP6sIxvM     www.livemint.com   \n",
       "3        b  ddUyU0VZz0BRneMioxUPQVP6sIxvM  www.ifamagazine.com   \n",
       "4        b  ddUyU0VZz0BRneMioxUPQVP6sIxvM  www.ifamagazine.com   \n",
       "5        b  ddUyU0VZz0BRneMioxUPQVP6sIxvM    www.moneynews.com   \n",
       "\n",
       "                            tstamp  \n",
       "1 2014-03-10 16:52:50.698000+00:00  \n",
       "2 2014-03-10 16:52:51.207000+00:00  \n",
       "3 2014-03-10 16:52:51.550000+00:00  \n",
       "4 2014-03-10 16:52:51.793000+00:00  \n",
       "5 2014-03-10 16:52:52.027000+00:00  "
      ]
     },
     "execution_count": 15,
     "metadata": {},
     "output_type": "execute_result"
    }
   ],
   "source": [
    "df.head()"
   ]
  },
  {
   "cell_type": "code",
   "execution_count": 14,
   "metadata": {},
   "outputs": [
    {
     "data": {
      "text/plain": [
       "outlet\n",
       "Reuters                         161\n",
       "NASDAQ                          103\n",
       "Businessweek                     93\n",
       "Investing.com                    66\n",
       "Wall Street Journal \\(blog\\)     61\n",
       "MarketWatch                      56\n",
       "Moneynews                        55\n",
       "Bloomberg                        53\n",
       "GlobalPost                       51\n",
       "Economic Times                   44\n",
       "Name: title, dtype: int64"
      ]
     },
     "execution_count": 14,
     "metadata": {},
     "output_type": "execute_result"
    }
   ],
   "source": [
    "df.groupby(\"outlet\", sort=False)[\"title\"] \\\n",
    "   .apply(lambda ser: ser.str.contains(\"Fed\").sum()).nlargest(10)"
   ]
  },
  {
   "cell_type": "markdown",
   "metadata": {},
   "source": [
    "Let’s break this down since there are several method calls made in succession. Like before, you can pull out the first group and its corresponding Pandas object by taking the first tuple from the Pandas GroupBy iterator:"
   ]
  },
  {
   "cell_type": "code",
   "execution_count": 25,
   "metadata": {},
   "outputs": [
    {
     "name": "stdout",
     "output_type": "stream",
     "text": [
      "Los Angeles Times\n"
     ]
    }
   ],
   "source": [
    "itr = iter(df.groupby(\"outlet\", sort=False)[\"title\"])\n",
    "title, ser = next(itr)\n",
    "print(title)\n",
    "#title, ser = next(itr)\n",
    "#print(title)"
   ]
  },
  {
   "cell_type": "code",
   "execution_count": 26,
   "metadata": {},
   "outputs": [
    {
     "data": {
      "text/plain": [
       "pandas.core.series.Series"
      ]
     },
     "execution_count": 26,
     "metadata": {},
     "output_type": "execute_result"
    }
   ],
   "source": [
    "type(ser)"
   ]
  },
  {
   "cell_type": "code",
   "execution_count": 27,
   "metadata": {},
   "outputs": [
    {
     "data": {
      "text/plain": [
       "1       Fed official says weak data caused by weather,...\n",
       "486            Stocks fall on discouraging news from Asia\n",
       "1124    Clues to Genghis Khan's rise, written in the r...\n",
       "1146    Elephants distinguish human voices by sex, age...\n",
       "1237    Honda splits Acura into its own division to re...\n",
       "Name: title, dtype: object"
      ]
     },
     "execution_count": 27,
     "metadata": {},
     "output_type": "execute_result"
    }
   ],
   "source": [
    "ser.head()"
   ]
  },
  {
   "cell_type": "markdown",
   "metadata": {},
   "source": [
    "In this case, ser is a Pandas Series rather than a DataFrame. That’s because you followed up the **.groupby()** call with [\"title\"]. This effectively selects that single column from each sub-table.\n",
    "\n",
    "Next comes **.str.contains(\"Fed\")**. This returns a Boolean Series that is True when an article title registers a match on the search. Sure enough, the first row starts with \"Fed official says weak data caused by weather,...\" and lights up as True:"
   ]
  },
  {
   "cell_type": "code",
   "execution_count": 28,
   "metadata": {},
   "outputs": [
    {
     "data": {
      "text/plain": [
       "1          True\n",
       "486       False\n",
       "1124      False\n",
       "1146      False\n",
       "1237      False\n",
       "          ...  \n",
       "421547    False\n",
       "421584    False\n",
       "421972    False\n",
       "422226    False\n",
       "422905    False\n",
       "Name: title, Length: 1976, dtype: bool"
      ]
     },
     "execution_count": 28,
     "metadata": {},
     "output_type": "execute_result"
    }
   ],
   "source": [
    "ser.str.contains(\"Fed\")"
   ]
  },
  {
   "cell_type": "markdown",
   "metadata": {},
   "source": [
    "The next step is to **.sum()** this Series. Since bool is technically just a specialized type of int, you can **sum a Series of True and False** just as you would **sum** a sequence of 1 and 0:"
   ]
  },
  {
   "cell_type": "code",
   "execution_count": 29,
   "metadata": {},
   "outputs": [
    {
     "data": {
      "text/plain": [
       "17"
      ]
     },
     "execution_count": 29,
     "metadata": {},
     "output_type": "execute_result"
    }
   ],
   "source": [
    "ser.str.contains(\"Fed\").sum()"
   ]
  },
  {
   "cell_type": "markdown",
   "metadata": {},
   "source": [
    "The result is the number of mentions of \"Fed\" by the Los Angeles Times in the dataset. The same routine gets applied for Reuters, NASDAQ, Businessweek, and the rest of the lot."
   ]
  },
  {
   "cell_type": "markdown",
   "metadata": {},
   "source": [
    "Improving the Performance of .groupby()\n",
    "\n",
    "Let’s backtrack again to **.groupby(...).apply()** to see why this pattern can be suboptimal. To get some background information, check out How to Speed Up Your Pandas Projects. What may happen with .apply() is that it will effectively perform a Python loop over each group. While the **.groupby(...).apply()** pattern can provide some flexibility, it can also inhibit Pandas from otherwise using its Cython-based optimizations.\n",
    "\n",
    "All that is to say that whenever you find yourself thinking about using .apply(), ask yourself if there’s a way to express the operation in a vectorized way. In that case, you can take advantage of the fact that .groupby() accepts not just one or more column names, but also many **array-like** structures:\n",
    "\n",
    "    A 1-dimensional NumPy array\n",
    "    A list\n",
    "    A Pandas Series or Index\n",
    "\n",
    "Also note that **.groupby()** is a valid instance method for a Series, not just a DataFrame, so you can essentially inverse the splitting logic. With that in mind, you can first construct a Series of Booleans that indicate whether or not the title contains \"Fed\":"
   ]
  },
  {
   "cell_type": "code",
   "execution_count": 30,
   "metadata": {},
   "outputs": [
    {
     "data": {
      "text/plain": [
       "pandas.core.series.Series"
      ]
     },
     "execution_count": 30,
     "metadata": {},
     "output_type": "execute_result"
    }
   ],
   "source": [
    "mentions_fed = df[\"title\"].str.contains(\"Fed\")\n",
    "type(mentions_fed)"
   ]
  },
  {
   "cell_type": "markdown",
   "metadata": {},
   "source": [
    "Now, **.groupby()** is also a method of **Series**, so you can group one **Series** on another:"
   ]
  },
  {
   "cell_type": "code",
   "execution_count": 33,
   "metadata": {},
   "outputs": [
    {
     "data": {
      "text/plain": [
       "outlet\n",
       "Reuters                         161\n",
       "NASDAQ                          103\n",
       "Businessweek                     93\n",
       "Investing.com                    66\n",
       "Wall Street Journal \\(blog\\)     61\n",
       "MarketWatch                      56\n",
       "Moneynews                        55\n",
       "Bloomberg                        53\n",
       "GlobalPost                       51\n",
       "Economic Times                   44\n",
       "Name: title, dtype: uint32"
      ]
     },
     "execution_count": 33,
     "metadata": {},
     "output_type": "execute_result"
    }
   ],
   "source": [
    "import numpy as np\n",
    "mentions_fed.groupby(\n",
    "    df[\"outlet\"], sort=False\n",
    ").sum().nlargest(10).astype(np.uintc)"
   ]
  },
  {
   "cell_type": "markdown",
   "metadata": {},
   "source": [
    "The two **Series** don’t need to be columns of the same DataFrame object. They just need to be of the same shape:"
   ]
  },
  {
   "cell_type": "code",
   "execution_count": 34,
   "metadata": {},
   "outputs": [
    {
     "data": {
      "text/plain": [
       "(422419,)"
      ]
     },
     "execution_count": 34,
     "metadata": {},
     "output_type": "execute_result"
    }
   ],
   "source": [
    "mentions_fed.shape"
   ]
  },
  {
   "cell_type": "code",
   "execution_count": 35,
   "metadata": {},
   "outputs": [
    {
     "data": {
      "text/plain": [
       "(422419,)"
      ]
     },
     "execution_count": 35,
     "metadata": {},
     "output_type": "execute_result"
    }
   ],
   "source": [
    "df[\"outlet\"].shape"
   ]
  },
  {
   "cell_type": "markdown",
   "metadata": {},
   "source": [
    "Finally, you can cast the result back to an unsigned integer with **np.uintc** if you’re determined to get the most compact result possible. Here’s a head-to-head comparison of the two versions that will produce the same result:"
   ]
  },
  {
   "cell_type": "code",
   "execution_count": 36,
   "metadata": {},
   "outputs": [
    {
     "data": {
      "text/plain": [
       "outlet\n",
       "Reuters                         161\n",
       "NASDAQ                          103\n",
       "Businessweek                     93\n",
       "Investing.com                    66\n",
       "Wall Street Journal \\(blog\\)     61\n",
       "MarketWatch                      56\n",
       "Moneynews                        55\n",
       "Bloomberg                        53\n",
       "GlobalPost                       51\n",
       "Economic Times                   44\n",
       "Name: title, dtype: int64"
      ]
     },
     "execution_count": 36,
     "metadata": {},
     "output_type": "execute_result"
    }
   ],
   "source": [
    "# Version 1: using `.apply()`\n",
    "df.groupby(\"outlet\", sort=False)[\"title\"].apply(\n",
    "    lambda ser: ser.str.contains(\"Fed\").sum()\n",
    ").nlargest(10)\n"
   ]
  },
  {
   "cell_type": "code",
   "execution_count": 37,
   "metadata": {},
   "outputs": [
    {
     "data": {
      "text/plain": [
       "outlet\n",
       "Reuters                         161\n",
       "NASDAQ                          103\n",
       "Businessweek                     93\n",
       "Investing.com                    66\n",
       "Wall Street Journal \\(blog\\)     61\n",
       "MarketWatch                      56\n",
       "Moneynews                        55\n",
       "Bloomberg                        53\n",
       "GlobalPost                       51\n",
       "Economic Times                   44\n",
       "Name: title, dtype: uint32"
      ]
     },
     "execution_count": 37,
     "metadata": {},
     "output_type": "execute_result"
    }
   ],
   "source": [
    "# Version 2: using vectorization\n",
    "mentions_fed.groupby(\n",
    "    df[\"outlet\"], sort=False\n",
    ").sum().nlargest(10).astype(np.uintc)"
   ]
  },
  {
   "cell_type": "markdown",
   "metadata": {},
   "source": [
    "On my laptop, Version 1 takes 4.01 seconds, while Version 2 takes just 292 milliseconds. This is an impressive 14x difference in CPU time for a few hundred thousand rows. Consider how dramatic the difference becomes when your dataset grows to a few million rows!"
   ]
  },
  {
   "cell_type": "markdown",
   "metadata": {},
   "source": [
    "\n",
    "\n",
    "**Note**: This example glazes over a few details in the data for the sake of simplicity. Namely, the search term \"Fed\" might also find mentions of things like “Federal government.”\n",
    "\n",
    "Series.str.contains() also takes a compiled regular expression as an argument if you want to get fancy and use an expression involving a negative lookahead.\n",
    "\n",
    "You may also want to count not just the raw number of mentions, but the proportion of mentions relative to all articles that a news outlet produced.\n"
   ]
  },
  {
   "cell_type": "code",
   "execution_count": null,
   "metadata": {},
   "outputs": [],
   "source": []
  }
 ],
 "metadata": {
  "kernelspec": {
   "display_name": "Python 3",
   "language": "python",
   "name": "python3"
  },
  "language_info": {
   "codemirror_mode": {
    "name": "ipython",
    "version": 3
   },
   "file_extension": ".py",
   "mimetype": "text/x-python",
   "name": "python",
   "nbconvert_exporter": "python",
   "pygments_lexer": "ipython3",
   "version": "3.6.8"
  }
 },
 "nbformat": 4,
 "nbformat_minor": 4
}
